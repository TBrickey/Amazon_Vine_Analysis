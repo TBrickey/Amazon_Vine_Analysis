{
  "cells": [
    {
      "cell_type": "code",
      "execution_count": 66,
      "metadata": {
        "colab": {
          "base_uri": "https://localhost:8080/"
        },
        "id": "V58rxea0HqSa",
        "outputId": "f1911811-59a3-448d-f700-ca93ef1bce34"
      },
      "outputs": [
        {
          "name": "stdout",
          "output_type": "stream",
          "text": [
            "\r0% [Working]\r            \rHit:1 https://cloud.r-project.org/bin/linux/ubuntu bionic-cran40/ InRelease\n",
            "\r0% [Waiting for headers] [Connecting to security.ubuntu.com (185.125.190.36)] [\r                                                                               \rHit:2 http://archive.ubuntu.com/ubuntu bionic InRelease\n",
            "\r0% [Waiting for headers] [Connecting to security.ubuntu.com (185.125.190.36)] [\r                                                                               \rGet:3 http://archive.ubuntu.com/ubuntu bionic-updates InRelease [88.7 kB]\n",
            "\r0% [3 InRelease 14.2 kB/88.7 kB 16%] [Connecting to security.ubuntu.com (185.12\r0% [1 InRelease gpgv 3,626 B] [3 InRelease 14.2 kB/88.7 kB 16%] [Connecting to \r0% [1 InRelease gpgv 3,626 B] [Waiting for headers] [Waiting for headers] [Wait\r                                                                               \rGet:4 http://archive.ubuntu.com/ubuntu bionic-backports InRelease [83.3 kB]\n",
            "\r0% [1 InRelease gpgv 3,626 B] [4 InRelease 8,396 B/83.3 kB 10%] [Waiting for he\r0% [1 InRelease gpgv 3,626 B] [Waiting for headers] [Waiting for headers] [Conn\r                                                                               \rGet:5 http://security.ubuntu.com/ubuntu bionic-security InRelease [88.7 kB]\n",
            "\r0% [1 InRelease gpgv 3,626 B] [5 InRelease 14.2 kB/88.7 kB 16%] [Waiting for he\r                                                                               \rIgn:6 https://developer.download.nvidia.com/compute/machine-learning/repos/ubuntu1804/x86_64  InRelease\n",
            "\r0% [1 InRelease gpgv 3,626 B] [5 InRelease 14.2 kB/88.7 kB 16%] [Waiting for he\r                                                                               \rHit:7 https://developer.download.nvidia.com/compute/cuda/repos/ubuntu1804/x86_64  InRelease\n",
            "\r0% [1 InRelease gpgv 3,626 B] [5 InRelease 14.2 kB/88.7 kB 16%] [Waiting for he\r                                                                               \rHit:8 https://developer.download.nvidia.com/compute/machine-learning/repos/ubuntu1804/x86_64  Release\n",
            "Hit:9 http://ppa.launchpad.net/c2d4u.team/c2d4u4.0+/ubuntu bionic InRelease\n",
            "Hit:10 http://ppa.launchpad.net/cran/libgit2/ubuntu bionic InRelease\n",
            "Hit:11 http://ppa.launchpad.net/deadsnakes/ppa/ubuntu bionic InRelease\n",
            "Hit:12 http://ppa.launchpad.net/graphics-drivers/ppa/ubuntu bionic InRelease\n",
            "Fetched 261 kB in 2s (137 kB/s)\n",
            "Reading package lists... Done\n"
          ]
        }
      ],
      "source": [
        "import os\n",
        "# Find the latest version of spark 3.0  from http://www.apache.org/dist/spark/ and enter as the spark version\n",
        "# For example:\n",
        "spark_version = 'spark-3.3.1'\n",
        "os.environ['SPARK_VERSION']=spark_version\n",
        "\n",
        "# Install Spark and Java\n",
        "!apt-get update\n",
        "!apt-get install openjdk-11-jdk-headless -qq > /dev/null\n",
        "!wget -q http://www.apache.org/dist/spark/$SPARK_VERSION/$SPARK_VERSION-bin-hadoop3.tgz\n",
        "!tar xf $SPARK_VERSION-bin-hadoop3.tgz\n",
        "!pip install -q findspark\n",
        "\n",
        "# Set Environment Variables\n",
        "import os\n",
        "os.environ[\"JAVA_HOME\"] = \"/usr/lib/jvm/java-11-openjdk-amd64\"\n",
        "os.environ[\"SPARK_HOME\"] = f\"/content/{spark_version}-bin-hadoop3\"\n",
        "\n",
        "# Start a SparkSession\n",
        "import findspark\n",
        "findspark.init()"
      ]
    },
    {
      "cell_type": "code",
      "execution_count": 67,
      "metadata": {
        "colab": {
          "base_uri": "https://localhost:8080/"
        },
        "id": "_xKwTpATHqSe",
        "outputId": "eed3b8c2-0536-4fc8-b9d8-be8981f7969a"
      },
      "outputs": [
        {
          "name": "stdout",
          "output_type": "stream",
          "text": [
            "--2022-12-12 04:26:43--  https://jdbc.postgresql.org/download/postgresql-42.2.16.jar\n",
            "Resolving jdbc.postgresql.org (jdbc.postgresql.org)... 72.32.157.228, 2001:4800:3e1:1::228\n",
            "Connecting to jdbc.postgresql.org (jdbc.postgresql.org)|72.32.157.228|:443... connected.\n",
            "HTTP request sent, awaiting response... 200 OK\n",
            "Length: 1002883 (979K) [application/java-archive]\n",
            "Saving to: ‘postgresql-42.2.16.jar.1’\n",
            "\n",
            "postgresql-42.2.16. 100%[===================>] 979.38K  5.34MB/s    in 0.2s    \n",
            "\n",
            "2022-12-12 04:26:44 (5.34 MB/s) - ‘postgresql-42.2.16.jar.1’ saved [1002883/1002883]\n",
            "\n"
          ]
        }
      ],
      "source": [
        "# Download the Postgres driver that will allow Spark to interact with Postgres.\n",
        "!wget https://jdbc.postgresql.org/download/postgresql-42.2.16.jar"
      ]
    },
    {
      "cell_type": "code",
      "execution_count": 70,
      "metadata": {
        "id": "MMqDAjVS0KN9"
      },
      "outputs": [],
      "source": [
        "from pyspark.sql import SparkSession\n",
        "spark = SparkSession.builder.appName(\"M17-Amazon-Challenge\").config(\"spark.driver.extraClassPath\",\"/content/postgresql-42.2.16.jar\").getOrCreate()"
      ]
    },
    {
      "cell_type": "markdown",
      "metadata": {
        "id": "cyBsySGuY-9V"
      },
      "source": [
        "### Load Amazon Data into Spark DataFrame"
      ]
    },
    {
      "cell_type": "code",
      "execution_count": 71,
      "metadata": {
        "colab": {
          "base_uri": "https://localhost:8080/"
        },
        "id": "CtCmBhQJY-9Z",
        "outputId": "fa40197e-357b-4ae2-a7e5-1aacd57a7697"
      },
      "outputs": [
        {
          "name": "stdout",
          "output_type": "stream",
          "text": [
            "+-----------+-----------+--------------+----------+--------------+--------------------+----------------+-----------+-------------+-----------+----+-----------------+--------------------+--------------------+-------------------+\n",
            "|marketplace|customer_id|     review_id|product_id|product_parent|       product_title|product_category|star_rating|helpful_votes|total_votes|vine|verified_purchase|     review_headline|         review_body|        review_date|\n",
            "+-----------+-----------+--------------+----------+--------------+--------------------+----------------+-----------+-------------+-----------+----+-----------------+--------------------+--------------------+-------------------+\n",
            "|         US|   16414143|R3W4P9UBGNGH1U|B00YL0EKWE|     852431543|LG G4 Case Hard T...|        Wireless|          2|            1|          3|   N|                Y|Looks good, funct...|2 issues  -  Once...|2015-08-31 00:00:00|\n",
            "|         US|   50800750|R15V54KBMTQWAY|B00XK95RPQ|     516894650|Selfie Stick Fibl...|        Wireless|          4|            0|          0|   N|                N| A fun little gadget|I’m embarrassed t...|2015-08-31 00:00:00|\n",
            "|         US|   15184378| RY8I449HNXSVF|B00SXRXUKO|     984297154|Tribe AB40 Water ...|        Wireless|          5|            0|          0|   N|                Y|          Five Stars|  Fits iPhone 6 well|2015-08-31 00:00:00|\n",
            "|         US|   10203548|R18TLJYCKJFLSR|B009V5X1CE|     279912704|RAVPower® Element...|        Wireless|          5|            0|          0|   N|                Y|       Great charger|Great charger.  I...|2015-08-31 00:00:00|\n",
            "|         US|     488280|R1NK26SWS53B8Q|B00D93OVF0|     662791300|Fosmon Micro USB ...|        Wireless|          5|            0|          0|   N|                Y|          Five Stars|Great for the pri...|2015-08-31 00:00:00|\n",
            "|         US|   13334021|R11LOHEDYJALTN|B00XVGJMDQ|     421688488|iPhone 6 Case, Vo...|        Wireless|          5|            0|          0|   N|                Y|          Five Stars|Great Case, bette...|2015-08-31 00:00:00|\n",
            "|         US|   27520697|R3ALQVQB2P9LA7|B00KQW1X1C|     554285554|Nokia Lumia 630 R...|        Wireless|          4|            0|          0|   N|                Y|          Four Stars|Easy to set up an...|2015-08-31 00:00:00|\n",
            "|         US|   48086021|R3MWLXLNO21PDQ|B00IP1MQNK|     488006702|Lumsing 10400mah ...|        Wireless|          5|            0|          0|   N|                Y|          Five Stars|         Works great|2015-08-31 00:00:00|\n",
            "|         US|   12738196|R2L15IS24CX0LI|B00HVORET8|     389677711|iPhone 5S Battery...|        Wireless|          5|            0|          0|   N|                Y|      So far so good|So far so good. I...|2015-08-31 00:00:00|\n",
            "|         US|   15867807|R1DJ8976WPWVZU|B00HX3G6J6|     299654876|HTC One M8 Screen...|        Wireless|          3|            0|          0|   N|                Y|seems durable but...|seems durable but...|2015-08-31 00:00:00|\n",
            "|         US|    1972249|R3MRWNNR8CBTB7|B00U4NATNQ|     577878727|S6 Case - Bear Mo...|        Wireless|          5|            0|          0|   N|                Y|Super thin, light...|Super thin, light...|2015-08-31 00:00:00|\n",
            "|         US|   10956619|R1DS6DKTUXAQK3|B00SZEFDH8|     654620704|BLU Studio X, Unl...|        Wireless|          5|            0|          0|   N|                Y|          Five Stars|As good as the Sa...|2015-08-31 00:00:00|\n",
            "|         US|   14805911| RWJM5E0TWUJD2|B00JRJUL9U|     391166958|EZOPower 5-Port U...|        Wireless|          5|            0|          0|   N|                Y|            EZOPower|I received this o...|2015-08-31 00:00:00|\n",
            "|         US|   15611116|R1XTJKDYNCRGAC|B00KQ4T0HE|     481551630|iPhone 6S Case &i...|        Wireless|          1|            0|          0|   N|                Y|Very cheap case. ...|Very cheap case. ...|2015-08-31 00:00:00|\n",
            "|         US|   39298603|R2UZL3DPWEU1XW|B00M0YWKPM|     685107474| iPhone 6s Plus Case|        Wireless|          5|            0|          0|   N|                Y|          Five Stars|       son loves it.|2015-08-31 00:00:00|\n",
            "|         US|   17552454|R2EZXET9KBFFU3|B00KDZEE68|     148320945|zBoost ZB575-A TR...|        Wireless|          1|            0|          0|   N|                Y|            One Star|you have to turn ...|2015-08-31 00:00:00|\n",
            "|         US|   12218556|R26VY1L1FD3LPU|B00BJN45GM|      47788188|OtterBox Defender...|        Wireless|          5|            0|          0|   N|                Y|          Five Stars|  Awesome, thank you|2015-08-31 00:00:00|\n",
            "|         US|   21872923|R2SSA4NSFCV18T|B00SA86SXW|     748759272|Aduro PowerUP 30W...|        Wireless|          5|            0|          0|   N|                N|          Five Stars|         nice, smart|2015-08-31 00:00:00|\n",
            "|         US|   16264332|R1G6333JHJNEUQ|B00Q3I68TU|     974085141|LilGadgets Connec...|        Wireless|          5|            0|          0|   N|                Y|Great headphones ...|We love these hea...|2015-08-31 00:00:00|\n",
            "|         US|    6042304|R2DRG0UZXJQ0PE|B00TN4J1TA|     716174627|Anker Aluminum Mu...|        Wireless|          5|            0|          0|   N|                Y|          Five Stars|This is well wort...|2015-08-31 00:00:00|\n",
            "+-----------+-----------+--------------+----------+--------------+--------------------+----------------+-----------+-------------+-----------+----+-----------------+--------------------+--------------------+-------------------+\n",
            "only showing top 20 rows\n",
            "\n"
          ]
        }
      ],
      "source": [
        "from pyspark import SparkFiles\n",
        "url = \"https://s3.amazonaws.com/amazon-reviews-pds/tsv/amazon_reviews_us_Wireless_v1_00.tsv.gz\"\n",
        "spark.sparkContext.addFile(url)\n",
        "df = spark.read.option(\"encoding\", \"UTF-8\").csv(SparkFiles.get(\"\"), sep=\"\\t\", header=True, inferSchema=True)\n",
        "df.show()"
      ]
    },
    {
      "cell_type": "markdown",
      "metadata": {
        "id": "2yUSe55VY-9t"
      },
      "source": [
        "### Create DataFrames to match tables"
      ]
    },
    {
      "cell_type": "code",
      "execution_count": 54,
      "metadata": {
        "id": "C8REmY1aY-9u"
      },
      "outputs": [],
      "source": [
        "from pyspark.sql.functions import to_date\n",
        "import pyspark.sql.functions as F\n",
        "from pyspark.sql.functions import avg\n",
        "from pyspark.sql import Window\n",
        "from pyspark.sql.functions import sum\n",
        "from pyspark.sql import SparkSession\n",
        "from pyspark.sql.types import StructField, StringType, IntegerType, StructType\n",
        "\n",
        "# Read in the Review dataset as a DataFrame\n"
      ]
    },
    {
      "cell_type": "code",
      "execution_count": 22,
      "metadata": {
        "colab": {
          "base_uri": "https://localhost:8080/"
        },
        "id": "mHrsxKaNSe2d",
        "outputId": "5e82af87-4ae7-401d-ceff-46e5ec7cadbf"
      },
      "outputs": [
        {
          "data": {
            "text/plain": [
              "['marketplace',\n",
              " 'customer_id',\n",
              " 'review_id',\n",
              " 'product_id',\n",
              " 'product_parent',\n",
              " 'product_title',\n",
              " 'product_category',\n",
              " 'star_rating',\n",
              " 'helpful_votes',\n",
              " 'total_votes',\n",
              " 'vine',\n",
              " 'verified_purchase',\n",
              " 'review_headline',\n",
              " 'review_body',\n",
              " 'review_date']"
            ]
          },
          "execution_count": 22,
          "metadata": {},
          "output_type": "execute_result"
        }
      ],
      "source": [
        "# show columns\n",
        "df.columns"
      ]
    },
    {
      "cell_type": "code",
      "execution_count": 76,
      "metadata": {
        "colab": {
          "base_uri": "https://localhost:8080/"
        },
        "id": "lzMmkdKmY--D",
        "outputId": "1d407fcc-7053-4632-cd1d-d96bff2a8998"
      },
      "outputs": [
        {
          "name": "stdout",
          "output_type": "stream",
          "text": [
            "+-----------+-----------+--------------+----------+--------------+--------------------+----------------+-----------+-------------+-----------+----+-----------------+--------------------+--------------------+-------------------+\n",
            "|marketplace|customer_id|     review_id|product_id|product_parent|       product_title|product_category|star_rating|helpful_votes|total_votes|vine|verified_purchase|     review_headline|         review_body|        review_date|\n",
            "+-----------+-----------+--------------+----------+--------------+--------------------+----------------+-----------+-------------+-----------+----+-----------------+--------------------+--------------------+-------------------+\n",
            "|         US|   44689470|R2WOW0TURNXB26|B00YY3UBV2|     310491927|            Garmin 1|        Wireless|          3|           54|         59|   N|                Y|Pretty Disappoint...|Bought this unit ...|2015-08-31 00:00:00|\n",
            "|         US|     112342|R13VL62Y2HBQ0B|B010VFZJD6|     129632031|iTaste MVP3 PRO -...|        Wireless|          5|           15|         21|   N|                Y|   Excellent battery|I love my Mvp pro...|2015-08-31 00:00:00|\n",
            "|         US|   13557708|R22G55KAPZKJQV|B00C8S8S4W|     998105706|SPOT 3 Satellite ...|        Wireless|          4|           20|         21|   N|                Y|Great but buy the...|My mom made me pu...|2015-08-31 00:00:00|\n",
            "|         US|    3346419|R1610PGTJS7G3N|B011I4XMXS|     431799284|   Ausdom Dash cam 1|        Wireless|          2|           28|         44|   N|                Y| Pretty dissapointed|I was hoping for ...|2015-08-31 00:00:00|\n",
            "|         US|   46029442| RLQL04BL0QXOJ|B00OSTKZWM|     736471392|RCA 5.5-Inch Quad...|        Wireless|          4|           45|         47|   N|                Y|Tried many... Thi...|I had been lookin...|2015-08-31 00:00:00|\n",
            "|         US|   19380011|R2AYJHH8WJNGAU|B013D32WVA|     138975975|Samsung Galaxy No...|        Wireless|          4|           98|        104|   N|                Y|     Time will tell.|I wanted a water ...|2015-08-31 00:00:00|\n",
            "|         US|   22953177|R111DJA10Y6CMU|B013BHLU66|     396362963|Waterproof Case f...|        Wireless|          5|           26|         39|   N|                Y|Great Value - Goo...|First, I will say...|2015-08-31 00:00:00|\n",
            "|         US|   16980808|R2EE2TR4MRDV0U|B00Y1Z87UU|     956867660|IBESTWIN Li-ion R...|        Wireless|          5|           53|         59|   N|                Y|Does it get any b...|A great battery f...|2015-08-31 00:00:00|\n",
            "|         US|   37339397| RD4A80I5JDHED|B00UY29N8Y|     384094161|IncrediSonic M700...|        Wireless|          5|           69|         77|   N|                N|        Virtual Fun!|I was a bit skept...|2015-08-31 00:00:00|\n",
            "|         US|    7830540|R1GU6IYZQWQE8X|B00NPZG6DW|     267673298|      Parrot Zik 2.0|        Wireless|          2|           24|         25|   N|                Y|Crappy lining... ...|These sounds grea...|2015-08-31 00:00:00|\n",
            "|         US|     113760| RZOPM62JMW97V|B00X0X3EQ6|     657509542|OtterBox SYMMETRY...|        Wireless|          2|          103|        108|   N|                Y|AVOID IF YOU ARE ...|Although this cas...|2015-08-31 00:00:00|\n",
            "|         US|   52589608|R21GLR3TD27ISV|B013IVO8FK|      84781086|NomadPlus Generat...|        Wireless|          3|            4|         22|   N|                Y|My feedback respo...|Don't get me wron...|2015-08-31 00:00:00|\n",
            "|         US|   35621482|R1D3NR5GREEXXJ|B013F8C9X4|     561786475|Galaxy Note 5 Cas...|        Wireless|          5|           57|         58|   N|                Y|Great case for a ...|I've been a big f...|2015-08-31 00:00:00|\n",
            "|         US|   45872422|R24BMEHX5EWGEY|B00Z9P06DW|     459992506|ATian 9 inch TFT ...|        Wireless|          2|           26|         30|   N|                Y|Not great - Wirel...|Pretty disappoint...|2015-08-31 00:00:00|\n",
            "|         US|   44137838|R2WYKBQS8OR08O|B010GYYSU2|     518226514|Z-Edge 2.4- inch ...|        Wireless|          5|          168|        176|   N|                Y|  PERFECT DASH CAM !|I returned my gar...|2015-08-31 00:00:00|\n",
            "|         US|   11179629|R3DL0Y1KWYLD5X|B010LXUQNG|     179041214|iPhone 6 Case, Lo...|        Wireless|          5|           36|         37|   N|                Y|You won't be disa...|Let me just say f...|2015-08-31 00:00:00|\n",
            "|         US|   21851130|R3EGDTFDMCOOG4|B010MP3K0O|     868762206|Jackery Titan Por...|        Wireless|          5|           74|         90|   N|                N|Jackery Titan 180...|I was sent this J...|2015-08-31 00:00:00|\n",
            "|         US|     459473|R1MC93W6WG9R3O|B00TRNCN5Q|     736335718|Galaxy Grand Prim...|        Wireless|          1|           22|         22|   N|                Y|            One Star|Too lose does not...|2015-08-31 00:00:00|\n",
            "|         US|    5374752|R35B0B69DYR54L|B00TRC3YF0|     396308462|Rexing F9 2.7” LC...|        Wireless|          1|           18|         22|   N|                Y|The user manual i...|The user manual i...|2015-08-31 00:00:00|\n",
            "|         US|   29179205|R1593EM56412NH|B011VRO5M4|      28128248|iPhone 6S Plus Wa...|        Wireless|          4|           33|         37|   N|                Y|Nice case except ...|I like my new cas...|2015-08-31 00:00:00|\n",
            "+-----------+-----------+--------------+----------+--------------+--------------------+----------------+-----------+-------------+-----------+----+-----------------+--------------------+--------------------+-------------------+\n",
            "only showing top 20 rows\n",
            "\n"
          ]
        }
      ],
      "source": [
        "# Create the vine_table. DataFrame\n",
        "#df.filter(\"Salary > 80\").select(\"occupation\").show()\n",
        "votes_df = df.filter(\"total_votes >= 20\")\n",
        "votes_df.show()"
      ]
    },
    {
      "cell_type": "code",
      "execution_count": 96,
      "metadata": {
        "colab": {
          "base_uri": "https://localhost:8080/"
        },
        "id": "RN9h-Hk6SfAj",
        "outputId": "b98453dd-956a-4bca-ccfd-e096fa1976c1"
      },
      "outputs": [
        {
          "name": "stdout",
          "output_type": "stream",
          "text": [
            "+----------+--------------+-----------+-------------+----+-----------+\n",
            "|product_id|     review_id|star_rating|helpful_votes|vine|total_votes|\n",
            "+----------+--------------+-----------+-------------+----+-----------+\n",
            "|B00YY3UBV2|R2WOW0TURNXB26|          3|           54|   N|         59|\n",
            "|B010VFZJD6|R13VL62Y2HBQ0B|          5|           15|   N|         21|\n",
            "|B00C8S8S4W|R22G55KAPZKJQV|          4|           20|   N|         21|\n",
            "|B011I4XMXS|R1610PGTJS7G3N|          2|           28|   N|         44|\n",
            "|B00OSTKZWM| RLQL04BL0QXOJ|          4|           45|   N|         47|\n",
            "|B013D32WVA|R2AYJHH8WJNGAU|          4|           98|   N|        104|\n",
            "|B013BHLU66|R111DJA10Y6CMU|          5|           26|   N|         39|\n",
            "|B00Y1Z87UU|R2EE2TR4MRDV0U|          5|           53|   N|         59|\n",
            "|B00UY29N8Y| RD4A80I5JDHED|          5|           69|   N|         77|\n",
            "|B00NPZG6DW|R1GU6IYZQWQE8X|          2|           24|   N|         25|\n",
            "|B00X0X3EQ6| RZOPM62JMW97V|          2|          103|   N|        108|\n",
            "|B013F8C9X4|R1D3NR5GREEXXJ|          5|           57|   N|         58|\n",
            "|B00Z9P06DW|R24BMEHX5EWGEY|          2|           26|   N|         30|\n",
            "|B010GYYSU2|R2WYKBQS8OR08O|          5|          168|   N|        176|\n",
            "|B010LXUQNG|R3DL0Y1KWYLD5X|          5|           36|   N|         37|\n",
            "|B010MP3K0O|R3EGDTFDMCOOG4|          5|           74|   N|         90|\n",
            "|B00TRNCN5Q|R1MC93W6WG9R3O|          1|           22|   N|         22|\n",
            "|B00TRC3YF0|R35B0B69DYR54L|          1|           18|   N|         22|\n",
            "|B011VRO5M4|R1593EM56412NH|          4|           33|   N|         37|\n",
            "|B00UH3L82Y|R1KEP1DUJK2LD5|          5|           34|   N|         42|\n",
            "+----------+--------------+-----------+-------------+----+-----------+\n",
            "only showing top 20 rows\n",
            "\n"
          ]
        }
      ],
      "source": [
        "new_total_df = votes_df.filter(\"(helpful_votes/total_votes)>=0.5\").select([\"product_id\", \"review_id\", \"star_rating\", \"helpful_votes\", \"vine\", \"total_votes\"])\n",
        "new_total_df.show()"
      ]
    },
    {
      "cell_type": "code",
      "execution_count": 97,
      "metadata": {
        "colab": {
          "base_uri": "https://localhost:8080/"
        },
        "id": "a4-jthY8X5P_",
        "outputId": "7cb5b1a6-24b0-4690-f2f4-168524570aeb"
      },
      "outputs": [
        {
          "name": "stdout",
          "output_type": "stream",
          "text": [
            "+----------+--------------+-----------+-------------+----+-----------+\n",
            "|product_id|     review_id|star_rating|helpful_votes|vine|total_votes|\n",
            "+----------+--------------+-----------+-------------+----+-----------+\n",
            "|B013X0V11K|R1MAOLI5FJHAFM|          4|          249|   Y|        261|\n",
            "|B013X0V4VM| R9PYAUDIBJVEC|          4|           12|   Y|         22|\n",
            "|B013X0V11K| R6V9SHMMG5M8F|          5|          101|   Y|        110|\n",
            "|B011HT9AL2|R37PVLT6ELL5J4|          4|          181|   Y|        209|\n",
            "|B0129T0XXS| R2FSFGWZF24V9|          4|           50|   Y|         51|\n",
            "|B0129TQLPW|R3SRW1E8J56IGV|          5|          262|   Y|        281|\n",
            "|B0129T0XXS| R86Z11D4CWOFM|          4|           32|   Y|         36|\n",
            "|B00W7S34HY| RNP01HW9YISJO|          4|           20|   Y|         23|\n",
            "|B00W75BKQ4|R3KLACA6LCDZ0S|          3|           21|   Y|         22|\n",
            "|B0129T0XXS| RZEQYOT2RE0N7|          4|           75|   Y|         80|\n",
            "|B0129TQLPW|R2WBPX441TH495|          5|          202|   Y|        221|\n",
            "|B0129T0XXS|R2BYBSYHS66ZN8|          5|          109|   Y|        114|\n",
            "|B011YNPPME|R3IF59PJGCNU3Q|          4|           42|   Y|         54|\n",
            "|B0129TQLPW|R2IXC6U7W4OCQ9|          5|          185|   Y|        201|\n",
            "|B011YNPPME|R1JEI3H9QRP6PH|          5|           15|   Y|         22|\n",
            "|B00MCJ4CKG|R37L3KGRRR6JTL|          3|           38|   Y|         47|\n",
            "|B00TYTBHKU|R1YJ7OKAEML92P|          5|           20|   Y|         22|\n",
            "|B0102OM1IC|R3JZJOD2512UVY|          4|           85|   Y|        101|\n",
            "|B00N9E6DUK|R38MY3TK17MXDH|          4|           25|   Y|         32|\n",
            "|B0102OM1IC|R2LWISZ4DSM0I4|          5|           28|   Y|         33|\n",
            "+----------+--------------+-----------+-------------+----+-----------+\n",
            "only showing top 20 rows\n",
            "\n"
          ]
        }
      ],
      "source": [
        "# Create the vine_table. DataFrame\n",
        "#df.select([\"product_id\", \"review_id\", \"star_rating\", \"helpful_votes\", \"vine\", \"total_votes\"])\n",
        "#https://sqlandhadoop.com/pyspark-filter-25-examples-to-teach-you-everything/ df.filter(\"price<20\").show() #https://www.geeksforgeeks.org/filtering-rows-based-on-column-values-in-pyspark-dataframe/\n",
        "vine_paid_df = new_total_df.filter(\"vine == 'Y'\")\n",
        "vine_paid_df.show()"
      ]
    },
    {
      "cell_type": "code",
      "execution_count": 98,
      "metadata": {
        "colab": {
          "base_uri": "https://localhost:8080/"
        },
        "id": "5BbMQbaQSfG8",
        "outputId": "f15bec16-e027-4adf-9905-7e60f8086af4"
      },
      "outputs": [
        {
          "name": "stdout",
          "output_type": "stream",
          "text": [
            "+----------+--------------+-----------+-------------+----+-----------+\n",
            "|product_id|     review_id|star_rating|helpful_votes|vine|total_votes|\n",
            "+----------+--------------+-----------+-------------+----+-----------+\n",
            "|B00YY3UBV2|R2WOW0TURNXB26|          3|           54|   N|         59|\n",
            "|B010VFZJD6|R13VL62Y2HBQ0B|          5|           15|   N|         21|\n",
            "|B00C8S8S4W|R22G55KAPZKJQV|          4|           20|   N|         21|\n",
            "|B011I4XMXS|R1610PGTJS7G3N|          2|           28|   N|         44|\n",
            "|B00OSTKZWM| RLQL04BL0QXOJ|          4|           45|   N|         47|\n",
            "|B013D32WVA|R2AYJHH8WJNGAU|          4|           98|   N|        104|\n",
            "|B013BHLU66|R111DJA10Y6CMU|          5|           26|   N|         39|\n",
            "|B00Y1Z87UU|R2EE2TR4MRDV0U|          5|           53|   N|         59|\n",
            "|B00UY29N8Y| RD4A80I5JDHED|          5|           69|   N|         77|\n",
            "|B00NPZG6DW|R1GU6IYZQWQE8X|          2|           24|   N|         25|\n",
            "|B00X0X3EQ6| RZOPM62JMW97V|          2|          103|   N|        108|\n",
            "|B013F8C9X4|R1D3NR5GREEXXJ|          5|           57|   N|         58|\n",
            "|B00Z9P06DW|R24BMEHX5EWGEY|          2|           26|   N|         30|\n",
            "|B010GYYSU2|R2WYKBQS8OR08O|          5|          168|   N|        176|\n",
            "|B010LXUQNG|R3DL0Y1KWYLD5X|          5|           36|   N|         37|\n",
            "|B010MP3K0O|R3EGDTFDMCOOG4|          5|           74|   N|         90|\n",
            "|B00TRNCN5Q|R1MC93W6WG9R3O|          1|           22|   N|         22|\n",
            "|B00TRC3YF0|R35B0B69DYR54L|          1|           18|   N|         22|\n",
            "|B011VRO5M4|R1593EM56412NH|          4|           33|   N|         37|\n",
            "|B00UH3L82Y|R1KEP1DUJK2LD5|          5|           34|   N|         42|\n",
            "+----------+--------------+-----------+-------------+----+-----------+\n",
            "only showing top 20 rows\n",
            "\n"
          ]
        }
      ],
      "source": [
        "vine_unpaid_df = new_total_df.filter(\"vine = 'N'\")\n",
        "vine_unpaid_df.show()"
      ]
    },
    {
      "cell_type": "code",
      "execution_count": 112,
      "metadata": {
        "colab": {
          "base_uri": "https://localhost:8080/"
        },
        "id": "G_XCIGYfSfKj",
        "outputId": "ff8bf09e-8726-43ed-dbcf-88d5b301caf4"
      },
      "outputs": [
        {
          "data": {
            "text/plain": [
              "65581"
            ]
          },
          "execution_count": 112,
          "metadata": {},
          "output_type": "execute_result"
        }
      ],
      "source": [
        "#total number of reviews\n",
        "#df.count()\n",
        "new_total_df.count()\n"
      ]
    },
    {
      "cell_type": "code",
      "execution_count": 113,
      "metadata": {
        "colab": {
          "base_uri": "https://localhost:8080/"
        },
        "id": "k3VA7tV0SfOL",
        "outputId": "372fc066-2a56-4c0e-e629-c4088858dcf6"
      },
      "outputs": [
        {
          "data": {
            "text/plain": [
              "30765"
            ]
          },
          "execution_count": 113,
          "metadata": {},
          "output_type": "execute_result"
        }
      ],
      "source": [
        "#number of 5-star reviews\n",
        "#df.filter(\"star_rating == 5\").count()\n",
        "new_total_df.filter(\"star_rating == 5\").count()"
      ]
    },
    {
      "cell_type": "code",
      "execution_count": 125,
      "metadata": {
        "colab": {
          "base_uri": "https://localhost:8080/"
        },
        "id": "sGts66Li-Qn5",
        "outputId": "674a59e5-4d1d-491d-d522-9c3052d18636"
      },
      "outputs": [
        {
          "data": {
            "text/plain": [
              "613"
            ]
          },
          "execution_count": 125,
          "metadata": {},
          "output_type": "execute_result"
        }
      ],
      "source": [
        "vine_paid_df.count()"
      ]
    },
    {
      "cell_type": "code",
      "execution_count": 126,
      "metadata": {
        "colab": {
          "base_uri": "https://localhost:8080/"
        },
        "id": "g35maJq2-Qz3",
        "outputId": "e14df68c-5c63-4eb0-a469-fefe945f850d"
      },
      "outputs": [
        {
          "data": {
            "text/plain": [
              "64968"
            ]
          },
          "execution_count": 126,
          "metadata": {},
          "output_type": "execute_result"
        }
      ],
      "source": [
        "vine_unpaid_df.count()"
      ]
    },
    {
      "cell_type": "code",
      "execution_count": 130,
      "metadata": {
        "colab": {
          "base_uri": "https://localhost:8080/"
        },
        "id": "OxpJYNb8Cmc5",
        "outputId": "397529e3-7cbf-40a6-c88b-7e1ae81bc519"
      },
      "outputs": [
        {
          "data": {
            "text/plain": [
              "222"
            ]
          },
          "execution_count": 130,
          "metadata": {},
          "output_type": "execute_result"
        }
      ],
      "source": [
        "vine_paid_df.filter(\"star_rating == 5\").count()"
      ]
    },
    {
      "cell_type": "code",
      "execution_count": 131,
      "metadata": {
        "colab": {
          "base_uri": "https://localhost:8080/"
        },
        "id": "nI9d5pt0DrmQ",
        "outputId": "6f682dd8-2a10-415a-cf4f-3c5d6d8761ff"
      },
      "outputs": [
        {
          "data": {
            "text/plain": [
              "30543"
            ]
          },
          "execution_count": 131,
          "metadata": {},
          "output_type": "execute_result"
        }
      ],
      "source": [
        "vine_unpaid_df.filter(\"star_rating == 5\").count()"
      ]
    },
    {
      "cell_type": "code",
      "execution_count": 133,
      "metadata": {
        "id": "LIBaO7lH0erJ"
      },
      "outputs": [],
      "source": [
        "#the percentage of 5-star reviews for paid\n",
        "#(vine_paid_df.count()/new_total_df.filter(\"star_rating == 5\").count())*100"
      ]
    },
    {
      "cell_type": "code",
      "execution_count": 134,
      "metadata": {
        "id": "XtdnG2x60e0I"
      },
      "outputs": [],
      "source": [
        "#the percentage of 5-star reviews unpaid\n",
        "#(vine_unpaid_df.count()/new_total_df.filter(\"star_rating == 5\").count())*100"
      ]
    },
    {
      "cell_type": "code",
      "execution_count": 128,
      "metadata": {
        "colab": {
          "base_uri": "https://localhost:8080/"
        },
        "id": "L3AV0eoRCm1Q",
        "outputId": "baf2296a-9294-4cfb-a7aa-838b1409cb67"
      },
      "outputs": [
        {
          "data": {
            "text/plain": [
              "36.215334420880914"
            ]
          },
          "execution_count": 128,
          "metadata": {},
          "output_type": "execute_result"
        }
      ],
      "source": [
        "#the percentage of 5-star reviews for paid\n",
        "(vine_paid_df.filter(\"star_rating == 5\").count()/vine_paid_df.count())*100"
      ]
    },
    {
      "cell_type": "code",
      "execution_count": 135,
      "metadata": {
        "colab": {
          "base_uri": "https://localhost:8080/"
        },
        "id": "zagndxmjC744",
        "outputId": "9f23c950-2216-4bf7-ead7-77bd21c1922e"
      },
      "outputs": [
        {
          "data": {
            "text/plain": [
              "47.01237532323606"
            ]
          },
          "execution_count": 135,
          "metadata": {},
          "output_type": "execute_result"
        }
      ],
      "source": [
        "#the percentage of 5-star reviews for unpaid\n",
        "(vine_unpaid_df.filter(\"star_rating == 5\").count()/vine_unpaid_df.count())*100"
      ]
    }
  ],
  "metadata": {
    "colab": {
      "provenance": []
    },
    "kernelspec": {
      "display_name": "Python 3 (ipykernel)",
      "language": "python",
      "name": "python3"
    },
    "language_info": {
      "codemirror_mode": {
        "name": "ipython",
        "version": 3
      },
      "file_extension": ".py",
      "mimetype": "text/x-python",
      "name": "python",
      "nbconvert_exporter": "python",
      "pygments_lexer": "ipython3",
      "version": "3.9.12"
    },
    "nteract": {
      "version": "0.12.3"
    }
  },
  "nbformat": 4,
  "nbformat_minor": 0
}
